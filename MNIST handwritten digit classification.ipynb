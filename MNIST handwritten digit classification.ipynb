{
 "cells": [
  {
   "cell_type": "markdown",
   "metadata": {},
   "source": [
    "# MNIST handwritten digit classification\n",
    "# Homework 0 of MLDS course (2017 summer, NTU)"
   ]
  },
  {
   "cell_type": "code",
   "execution_count": 1,
   "metadata": {
    "collapsed": false
   },
   "outputs": [],
   "source": [
    "### Import modules ###\n",
    "\n",
    "import numpy as np\n",
    "import tensorflow as tf\n",
    "import struct\n",
    "import csv\n",
    "import matplotlib.pyplot as plt\n",
    "\n",
    "%matplotlib inline"
   ]
  },
  {
   "cell_type": "code",
   "execution_count": 2,
   "metadata": {
    "collapsed": false
   },
   "outputs": [
    {
     "name": "stdout",
     "output_type": "stream",
     "text": [
      "Training set (48000, 28, 28) (48000,)\n",
      "Validation set (12000, 28, 28) (12000,)\n",
      "Test set (10000, 28, 28)\n"
     ]
    }
   ],
   "source": [
    "### Load data ###\n",
    "\n",
    "train_images_idx3 = '/home/andrewkgs/MLDS2017/hw0/train-images-idx3-ubyte'\n",
    "train_labels_idx1 = '/home/andrewkgs/MLDS2017/hw0/train-labels-idx1-ubyte'\n",
    "test_images_idx3 = '/home/andrewkgs/MLDS2017/hw0/test-image'\n",
    "\n",
    "proportion = 0.80 # Determine how many datasets are used for training and validation, respectively.\n",
    "\n",
    "def decode_idx3_ubyte(idx3_ubyte_file):\n",
    "  bin_data = open(idx3_ubyte_file, 'rb').read()\n",
    "  offset = 0\n",
    "  fmt_header = '>iiii'\n",
    "  magic_number, num_images, num_rows, num_cols = struct.unpack_from(fmt_header, bin_data, offset)\n",
    "\n",
    "  image_size = num_rows * num_cols\n",
    "  offset += struct.calcsize(fmt_header)\n",
    "  fmt_image = '>' + str(image_size) + 'B'\n",
    "  images = np.empty((num_images, num_rows, num_cols))\n",
    "  for i in range(num_images):\n",
    "    images[i] = np.array(struct.unpack_from(fmt_image, bin_data, offset)).reshape((num_rows, num_cols))\n",
    "    offset += struct.calcsize(fmt_image)\n",
    "  return images\n",
    "\n",
    "\n",
    "def decode_idx1_ubyte(idx1_ubyte_file):\n",
    "  bin_data = open(idx1_ubyte_file, 'rb').read()\n",
    "  offset = 0\n",
    "  fmt_header = '>ii'\n",
    "  magic_number, num_images = struct.unpack_from(fmt_header, bin_data, offset)\n",
    "\n",
    "  offset += struct.calcsize(fmt_header)\n",
    "  fmt_image = '>B'\n",
    "  labels = np.empty(num_images)\n",
    "  for i in range(num_images):\n",
    "    labels[i] = struct.unpack_from(fmt_image, bin_data, offset)[0]\n",
    "    offset += struct.calcsize(fmt_image)\n",
    "  return labels\n",
    "\n",
    "\n",
    "def load_train_images(idx_ubyte_file = train_images_idx3):\n",
    "  return decode_idx3_ubyte(idx_ubyte_file)\n",
    "\n",
    "def load_train_labels(idx_ubyte_file = train_labels_idx1):\n",
    "  return decode_idx1_ubyte(idx_ubyte_file)\n",
    "\n",
    "def load_test_images(idx_ubyte_file = test_images_idx3):\n",
    "  return decode_idx3_ubyte(idx_ubyte_file)\n",
    "\n",
    "if __name__ == '__main__':\n",
    "  train_images_data = load_train_images()\n",
    "  train_labels_data = load_train_labels()\n",
    "  test_images_data = load_test_images()\n",
    "\n",
    "  data_size = len(train_images_data)\n",
    "  train_size = int(data_size * proportion)\n",
    "\n",
    "  train_dataset = train_images_data[:train_size,:,:]\n",
    "  train_labels = train_labels_data[:train_size]\n",
    "  valid_dataset = train_images_data[train_size:,:,:]\n",
    "  valid_labels = train_labels_data[train_size:]\n",
    "  test_dataset = test_images_data\n",
    "\n",
    "  print('Training set', train_dataset.shape, train_labels.shape)\n",
    "  print('Validation set', valid_dataset.shape, valid_labels.shape)\n",
    "  print('Test set', test_dataset.shape)"
   ]
  },
  {
   "cell_type": "code",
   "execution_count": 3,
   "metadata": {
    "collapsed": false
   },
   "outputs": [
    {
     "name": "stdout",
     "output_type": "stream",
     "text": [
      "Training set (48000, 28, 28, 1) (48000, 10)\n",
      "Validation set (12000, 28, 28, 1) (12000, 10)\n",
      "Test set (10000, 28, 28, 1)\n"
     ]
    }
   ],
   "source": [
    "image_size = 28\n",
    "num_labels = 10\n",
    "num_channels = 1\n",
    "\n",
    "def reformat(dataset, labels):\n",
    "    dataset = dataset.reshape((-1, image_size, image_size, num_channels)).astype(np.float32)\n",
    "    labels = (np.arange(num_labels) == labels[:,None]).astype(np.float32)\n",
    "    return dataset, labels\n",
    "def reformat_test(dataset):\n",
    "    dataset = dataset.reshape((-1, image_size, image_size, num_channels)).astype(np.float32)\n",
    "    return dataset\n",
    "\n",
    "train_dataset, train_labels = reformat(train_dataset, train_labels)\n",
    "valid_dataset, valid_labels = reformat(valid_dataset, valid_labels)\n",
    "test_dataset= reformat_test(test_dataset)\n",
    "print('Training set', train_dataset.shape, train_labels.shape)\n",
    "print('Validation set', valid_dataset.shape, valid_labels.shape)\n",
    "print('Test set', test_dataset.shape)"
   ]
  },
  {
   "cell_type": "markdown",
   "metadata": {},
   "source": [
    "## Graph & Model"
   ]
  },
  {
   "cell_type": "code",
   "execution_count": 4,
   "metadata": {
    "collapsed": true
   },
   "outputs": [],
   "source": [
    "batch_size = 512\n",
    "patch_size = 3\n",
    "depth = 16\n",
    "num_hidden = 64\n",
    "beta = 1e-6\n",
    "\n",
    "starting_learning_rate = 0.0017\n",
    "\n",
    "num_steps = 0\n",
    "\n",
    "graph = tf.Graph()\n",
    "\n",
    "with graph.as_default():\n",
    "    # Input data.\n",
    "    tf_train_dataset = tf.placeholder(tf.float32, shape=(batch_size, image_size, image_size, num_channels))\n",
    "    tf_train_labels = tf.placeholder(tf.float32, shape=(batch_size, num_labels))\n",
    "    tf_valid_dataset = tf.constant(valid_dataset)\n",
    "    tf_test_dataset = tf.constant(test_dataset)\n",
    "\n",
    "    # Variables.\n",
    "    layer1_weights = tf.Variable(tf.truncated_normal([patch_size, patch_size, num_channels, depth], stddev=0.1))\n",
    "    layer1_biases = tf.Variable(tf.zeros([depth]))\n",
    "    layer2_weights = tf.Variable(tf.truncated_normal([patch_size, patch_size, depth, depth], stddev=0.1))\n",
    "    layer2_biases = tf.Variable(tf.constant(1.0, shape=[depth]))\n",
    "    layer3_weights = tf.Variable(tf.truncated_normal([patch_size, patch_size, depth, 2 * depth], stddev=0.1))\n",
    "    layer3_biases = tf.Variable(tf.constant(1.0, shape=[2 * depth]))\n",
    "    layer4_weights = tf.Variable(tf.truncated_normal([patch_size, patch_size, 2 * depth, 3 * depth], stddev=0.1))\n",
    "    layer4_biases = tf.Variable(tf.constant(1.0, shape=[3 * depth]))\n",
    "    layer5_weights = tf.Variable(tf.truncated_normal([image_size // 4 * image_size // 4 * (3 * depth), num_hidden], stddev=0.1))\n",
    "    layer5_biases = tf.Variable(tf.constant(1.0, shape=[num_hidden]))\n",
    "    layer6_weights = tf.Variable(tf.truncated_normal([num_hidden, num_labels], stddev=0.1))\n",
    "    layer6_biases = tf.Variable(tf.constant(1.0, shape=[num_labels]))\n",
    "\n",
    "\n",
    "    # Model.\n",
    "    def model(data, train=True):\n",
    "        conv = tf.nn.conv2d(data, layer1_weights, [1, 1, 1, 1], padding='SAME')\n",
    "        hidden = tf.nn.relu(conv + layer1_biases)\n",
    "        conv = tf.nn.conv2d(hidden, layer2_weights, [1, 1, 1, 1], padding='SAME')\n",
    "        hidden = tf.nn.relu(conv + layer2_biases)\n",
    "        pool = tf.nn.max_pool(hidden, [1, 2, 2, 1], [1, 2, 2, 1], padding='SAME')\n",
    "        conv = tf.nn.conv2d(pool, layer3_weights, [1, 1, 1, 1], padding='SAME')\n",
    "        hidden = tf.nn.relu(conv + layer3_biases)\n",
    "        conv = tf.nn.conv2d(hidden, layer4_weights, [1, 1, 1, 1], padding='SAME')\n",
    "        hidden = tf.nn.relu(conv + layer4_biases)\n",
    "        pool = tf.nn.max_pool(hidden, [1, 2, 2, 1], [1, 2, 2, 1], padding='SAME')\n",
    "        shape = pool.get_shape().as_list()\n",
    "        reshape = tf.reshape(pool, [shape[0], shape[1] * shape[2] * shape[3]])\n",
    "        hidden = tf.nn.relu(tf.matmul(reshape, layer5_weights) + layer5_biases)\n",
    "        if (train):\n",
    "            hidden = tf.nn.dropout(hidden, 0.75)\n",
    "        return tf.matmul(hidden, layer6_weights) + layer6_biases\n",
    "\n",
    "    # Training computation.\n",
    "    logits = model(tf_train_dataset)\n",
    "    loss = tf.reduce_mean(tf.nn.softmax_cross_entropy_with_logits(logits=logits, labels=tf_train_labels))\n",
    "\n",
    "    regularization = (tf.nn.l2_loss(layer1_weights) + tf.nn.l2_loss(layer2_weights) +\n",
    "                    tf.nn.l2_loss(layer3_weights) + tf.nn.l2_loss(layer4_weights) +\n",
    "                    tf.nn.l2_loss(layer5_weights) + tf.nn.l2_loss(layer6_weights))\n",
    "    loss = loss + (beta * regularization)\n",
    "    batch = tf.Variable(0)\n",
    "    learning_rate = tf.train.exponential_decay(\n",
    "        starting_learning_rate,  # Base learning rate.\n",
    "        batch * batch_size,  # Current index into the dataset.\n",
    "        4000,  # Decay step.\n",
    "        0.7,  # Decay rate.\n",
    "        staircase=True)\n",
    "    #optimizer = tf.train.MomentumOptimizer(learning_rate, 0.5).minimize(loss, global_step=batch)\n",
    "    optimizer = tf.train.AdamOptimizer(learning_rate).minimize(loss)\n",
    "\n",
    "    # Predictions for the training, validation, and test data.\n",
    "    train_prediction = tf.nn.softmax(logits)\n",
    "    valid_prediction = tf.nn.softmax(model(tf_valid_dataset, False))\n",
    "    test_prediction = tf.nn.softmax(model(tf_test_dataset, False))"
   ]
  },
  {
   "cell_type": "markdown",
   "metadata": {},
   "source": [
    "## Session"
   ]
  },
  {
   "cell_type": "code",
   "execution_count": 5,
   "metadata": {
    "collapsed": false
   },
   "outputs": [],
   "source": [
    "def accuracy(predictions, labels):\n",
    "    return (100.0 * np.sum(np.argmax(predictions, 1) == np.argmax(labels, 1)) / predictions.shape[0])\n",
    "\n",
    "def run(num_steps):\n",
    "    interval = 50\n",
    "    y = []\n",
    "    z = []\n",
    "    with tf.Session(graph=graph) as session:\n",
    "        tf.initialize_all_variables().run()\n",
    "        print('\\t minibatch \\t minibatch \\t validation')\n",
    "        print('Steps \\t loss \\t\\t accuracy \\t accuracy')\n",
    "        print('---------------------------------------------------')\n",
    "        for step in range(num_steps):\n",
    "            offset = (step * batch_size) % (train_labels.shape[0] - batch_size)\n",
    "            batch_data = train_dataset[offset:(offset + batch_size), :, :, :]\n",
    "            batch_labels = train_labels[offset:(offset + batch_size), :]\n",
    "            feed_dict = {tf_train_dataset : batch_data, tf_train_labels : batch_labels}\n",
    "            _, l, predictions = session.run([optimizer, loss, train_prediction], feed_dict=feed_dict)\n",
    "            if (step % 200 == 0):\n",
    "                print('%d\\t %f\\t %.3f %%\\t %.3f %%\\t' % (\n",
    "                step,\n",
    "                l,\n",
    "                accuracy(predictions, batch_labels),\n",
    "                accuracy(valid_prediction.eval(), valid_labels)\n",
    "                ))\n",
    "\n",
    "            if (step % interval == 0):\n",
    "                y.append(accuracy(predictions, batch_labels))\n",
    "                z.append(accuracy(valid_prediction.eval(), valid_labels))\n",
    "\n",
    "        x = np.arange(0, num_steps, interval)\n",
    "        plt.plot(x, y, 'r', label='train')\n",
    "        plt.plot(x, z, 'b', label='validation')\n",
    "        plt.xlabel(\"step\")\n",
    "        plt.ylabel(\"accuracy (%)\")\n",
    "        plt.legend(bbox_to_anchor=(1.05, 1), loc=2, borderaxespad=0)\n",
    "        plt.show()\n",
    "\n",
    "        \"\"\"\n",
    "        test_labels = np.argmax(test_prediction.eval(), 1)\n",
    "\n",
    "        f = open('prediction.csv', 'w', encoding= 'UTF-8')\n",
    "        w = csv.writer(f)\n",
    "        csvHeader = ['id', 'label']\n",
    "        w.writerow(csvHeader)\n",
    "        for i in range(0, len(test_labels)):\n",
    "            result=[[i,test_labels[i]]]\n",
    "            w.writerows(result)  \n",
    "        f.close()\n",
    "        del f\n",
    "        \"\"\""
   ]
  },
  {
   "cell_type": "code",
   "execution_count": 6,
   "metadata": {
    "collapsed": false
   },
   "outputs": [
    {
     "name": "stdout",
     "output_type": "stream",
     "text": [
      "\t minibatch \t minibatch \t validation\n",
      "Steps \t loss \t\t accuracy \t accuracy\n",
      "---------------------------------------------------\n",
      "0\t 32.284233\t 12.109 %\t 12.992 %\t\n",
      "200\t 0.297364\t 91.406 %\t 95.967 %\t\n",
      "400\t 0.120037\t 96.289 %\t 97.725 %\t\n",
      "600\t 0.128114\t 95.508 %\t 98.233 %\t\n",
      "800\t 0.133818\t 96.094 %\t 98.442 %\t\n",
      "1000\t 0.071305\t 97.266 %\t 98.675 %\t\n",
      "1200\t 0.046634\t 98.438 %\t 98.792 %\t\n",
      "1400\t 0.036034\t 99.023 %\t 98.725 %\t\n",
      "1600\t 0.036538\t 98.438 %\t 98.808 %\t\n",
      "1800\t 0.032133\t 99.023 %\t 98.850 %\t\n",
      "2000\t 0.012873\t 99.805 %\t 98.925 %\t\n",
      "2200\t 0.012837\t 99.414 %\t 98.892 %\t\n",
      "2400\t 0.025925\t 98.633 %\t 98.942 %\t\n",
      "2600\t 0.032627\t 98.828 %\t 99.008 %\t\n",
      "2800\t 0.017245\t 99.219 %\t 98.825 %\t\n",
      "3000\t 0.029498\t 99.023 %\t 98.833 %\t\n",
      "3200\t 0.009405\t 99.609 %\t 98.850 %\t\n",
      "3400\t 0.028731\t 99.219 %\t 98.950 %\t\n",
      "3600\t 0.016669\t 99.609 %\t 98.883 %\t\n",
      "3800\t 0.015640\t 99.609 %\t 98.975 %\t\n",
      "4000\t 0.043082\t 99.414 %\t 98.950 %\t\n",
      "4200\t 0.014701\t 99.414 %\t 98.958 %\t\n",
      "4400\t 0.015926\t 99.609 %\t 98.983 %\t\n",
      "4600\t 0.011262\t 99.414 %\t 98.867 %\t\n",
      "4800\t 0.011958\t 99.609 %\t 99.008 %\t\n",
      "5000\t 0.011953\t 99.414 %\t 98.875 %\t\n",
      "5200\t 0.011529\t 99.414 %\t 98.833 %\t\n",
      "5400\t 0.009698\t 99.609 %\t 98.933 %\t\n",
      "5600\t 0.003720\t 100.000 %\t 99.133 %\t\n",
      "5800\t 0.022939\t 99.414 %\t 99.033 %\t\n",
      "6000\t 0.004604\t 100.000 %\t 99.050 %\t\n"
     ]
    },
    {
     "data": {
      "image/png": "[encoded data removed]",
      "text/plain": [
       "<matplotlib.figure.Figure at 0x7f6fec0fbba8>"
      ]
     },
     "metadata": {},
     "output_type": "display_data"
    }
   ],
   "source": [
    "run(6001)"
   ]
  }
 ],
 "metadata": {
  "anaconda-cloud": {},
  "kernelspec": {
   "display_name": "Python [tensorflow]",
   "language": "python",
   "name": "Python [tensorflow]"
  },
  "language_info": {
   "codemirror_mode": {
    "name": "ipython",
    "version": 3
   },
   "file_extension": ".py",
   "mimetype": "text/x-python",
   "name": "python",
   "nbconvert_exporter": "python",
   "pygments_lexer": "ipython3",
   "version": "3.5.2"
  }
 },
 "nbformat": 4,
 "nbformat_minor": 0
}
